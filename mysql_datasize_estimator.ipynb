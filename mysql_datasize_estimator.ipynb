{
 "cells": [
  {
   "cell_type": "markdown",
   "metadata": {},
   "source": [
    "## VARCHAR(M)"
   ]
  },
  {
   "cell_type": "code",
   "execution_count": 1,
   "metadata": {},
   "outputs": [],
   "source": [
    "def calcVarcharColSize(M, S, charcterset):\n",
    "    \n",
    "    charctersetList = ['latin1', 'usc2', 'utf8', 'utf8mb3', 'utf8mb4']\n",
    "    if not charcterset in charctersetList:\n",
    "        return None\n",
    "        \n",
    "    alpha = -1\n",
    "    if charcterset == 'latin1':\n",
    "        alpha = 1\n",
    "    elif charcterset == 'usc2':\n",
    "        alpha = 2\n",
    "    elif charcterset == 'utf8' or  charcterset == 'utf8mb3':\n",
    "        alpha = 3\n",
    "    elif charcterset == 'utf8mb4':\n",
    "        alpha = 4\n",
    "\n",
    "    L_m = M * alpha\n",
    "    L_s = S * alpha\n",
    "    \n",
    "    return  L_s + 1 if L_m <= 255 else L_s + 2 "
   ]
  },
  {
   "cell_type": "code",
   "execution_count": 2,
   "metadata": {},
   "outputs": [
    {
     "name": "stdout",
     "output_type": "stream",
     "text": [
      "5\n",
      "10\n",
      "None\n"
     ]
    }
   ],
   "source": [
    "print(calcVarcharColSize(255, 4, 'latin1'))\n",
    "print(calcVarcharColSize(255, 4, 'usc2'))\n",
    "print(calcVarcharColSize(255, 4, 'usc3'))"
   ]
  },
  {
   "cell_type": "markdown",
   "metadata": {},
   "source": [
    "## INT"
   ]
  },
  {
   "cell_type": "code",
   "execution_count": 3,
   "metadata": {},
   "outputs": [],
   "source": [
    "def calcIntColSize():\n",
    "    return 4"
   ]
  },
  {
   "cell_type": "markdown",
   "metadata": {},
   "source": [
    "## FLOAT"
   ]
  },
  {
   "cell_type": "code",
   "execution_count": 4,
   "metadata": {},
   "outputs": [],
   "source": [
    "def calcFloatColSize():\n",
    "    return 4"
   ]
  },
  {
   "cell_type": "markdown",
   "metadata": {},
   "source": [
    "## DATE, DATETIME"
   ]
  },
  {
   "cell_type": "code",
   "execution_count": 5,
   "metadata": {},
   "outputs": [],
   "source": [
    "def calcDateColSize(fractionalSecondsPrecision):\n",
    "    fractionalSecondStorage = 0\n",
    "    if(fractionalSecondsPrecision in range(1,3)):\n",
    "        fractionalSecondStorage = 1\n",
    "    elif(fractionalSecondsPrecision in range(3,5)):\n",
    "        fractionalSecondStorage = 2\n",
    "    elif(fractionalSecondsPrecision in range(5,7)):\n",
    "        fractionalSecondStorage = 3\n",
    "    return 3 + fractionalSecondStorage"
   ]
  },
  {
   "cell_type": "code",
   "execution_count": 6,
   "metadata": {},
   "outputs": [
    {
     "name": "stdout",
     "output_type": "stream",
     "text": [
      "3\n",
      "4\n",
      "5\n",
      "6\n"
     ]
    }
   ],
   "source": [
    "print(calcDateColSize(0))\n",
    "print(calcDateColSize(2))\n",
    "print(calcDateColSize(4))\n",
    "print(calcDateColSize(6))"
   ]
  },
  {
   "cell_type": "code",
   "execution_count": 7,
   "metadata": {},
   "outputs": [],
   "source": [
    "def calcDatetimeColSize(fractionalSecondsPrecision):\n",
    "    fractionalSecondStorage = 0\n",
    "    if(fractionalSecondsPrecision in range(1,3)):\n",
    "        fractionalSecondStorage = 1\n",
    "    elif(fractionalSecondsPrecision in range(3,5)):\n",
    "        fractionalSecondStorage = 2\n",
    "    elif(fractionalSecondsPrecision in range(5,7)):\n",
    "        fractionalSecondStorage = 3\n",
    "    return 5 + fractionalSecondStorage"
   ]
  },
  {
   "cell_type": "markdown",
   "metadata": {},
   "source": [
    "## Estimate column size in bytes\n",
    "\n",
    "calculate total column size of schema"
   ]
  },
  {
   "cell_type": "code",
   "execution_count": 8,
   "metadata": {},
   "outputs": [],
   "source": [
    "import const\n",
    "\n",
    "const.VARCHAR = 'varchar'\n",
    "const.INT = 'int'\n",
    "const.FLOAT = 'float'\n",
    "const.DATE = 'date'\n",
    "const.DATETIME = 'datetime'"
   ]
  },
  {
   "cell_type": "code",
   "execution_count": 17,
   "metadata": {},
   "outputs": [],
   "source": [
    "def calcTotalColSize(types, characterset):\n",
    "    totalColSize = 0\n",
    "    for type in types:\n",
    "        if type[0] == const.VARCHAR:\n",
    "            totalColSize += calcVarcharColSize(type[1], type[1], characterset)\n",
    "        elif type[0] == const.INT:\n",
    "            totalColSize += calcIntColSize()\n",
    "        elif type[0] == const.FLOAT:\n",
    "            totalColSize += calcFloatColSize()\n",
    "        elif type[0] == const.DATE:\n",
    "            totalColSize += calcDateColSize(type[1])\n",
    "        elif type[0] == const.DATETIME:\n",
    "            totalColSize += calcDatetimeColSize(type[1])\n",
    "    return totalColSize"
   ]
  },
  {
   "cell_type": "code",
   "execution_count": 10,
   "metadata": {},
   "outputs": [
    {
     "data": {
      "text/html": [
       "<style>\n",
       "table {float:left}\n",
       "</style>\n"
      ],
      "text/plain": [
       "<IPython.core.display.HTML object>"
      ]
     },
     "metadata": {},
     "output_type": "display_data"
    }
   ],
   "source": [
    "%%html\n",
    "<style>\n",
    "table {float:left}\n",
    "</style>"
   ]
  },
  {
   "cell_type": "markdown",
   "metadata": {},
   "source": [
    "https://stackoverflow.com/questions/21892570/ipython-notebook-align-table-to-the-left-of-cell"
   ]
  },
  {
   "cell_type": "markdown",
   "metadata": {},
   "source": [
    "## How to use\n",
    "\n",
    "Estimate data size of following schema(utf8)\n",
    "\n",
    "schema1\n",
    "\n",
    "|  col1         | col2   | col3  | col4  | col5     |\n",
    "| :--------------| :------ |:-------|:-------|:----------|\n",
    "|  VARCHAR(13)  |  INT   |  FLOAT   | DATE  | DATETIME |"
   ]
  },
  {
   "cell_type": "markdown",
   "metadata": {},
   "source": [
    "### 1. Estimate total column size in bytes\n",
    "- VARCHAR(M)-> ('varchar', M)\n",
    "- INT -> ('int',)\n",
    "- DATE(n) -> ('date', n)\n",
    "- DATETIME(n) -> ('datetime', n)"
   ]
  },
  {
   "cell_type": "code",
   "execution_count": 18,
   "metadata": {},
   "outputs": [
    {
     "name": "stdout",
     "output_type": "stream",
     "text": [
      "Total column size: 56 bytes\n"
     ]
    }
   ],
   "source": [
    "types = [(const.VARCHAR, 13), (const.INT,), (const.FLOAT,), (const.DATE, 0), (const.DATETIME, 0)]\n",
    "totalColSize = calcTotalColSize(types, 'utf8')\n",
    "\n",
    "print(\"Total column size: {} {}\".format(totalColSize, \"bytes\"))"
   ]
  },
  {
   "cell_type": "markdown",
   "metadata": {},
   "source": [
    "### 2. Estimate number of rows"
   ]
  },
  {
   "cell_type": "code",
   "execution_count": 12,
   "metadata": {},
   "outputs": [
    {
     "name": "stdout",
     "output_type": "stream",
     "text": [
      "Estimated number of rows: 100\n"
     ]
    }
   ],
   "source": [
    "estimatedRows = 100\n",
    "print(\"Estimated number of rows: {}\".format(estimatedRows))"
   ]
  },
  {
   "cell_type": "markdown",
   "metadata": {},
   "source": [
    "### 3. Index factor"
   ]
  },
  {
   "cell_type": "code",
   "execution_count": 13,
   "metadata": {},
   "outputs": [
    {
     "name": "stdout",
     "output_type": "stream",
     "text": [
      "Index factor: 2\n"
     ]
    }
   ],
   "source": [
    "indexFactor = 2\n",
    "print(\"Index factor: {}\".format(indexFactor))"
   ]
  },
  {
   "cell_type": "markdown",
   "metadata": {},
   "source": [
    "### 4. Overhead factor"
   ]
  },
  {
   "cell_type": "code",
   "execution_count": 14,
   "metadata": {},
   "outputs": [
    {
     "name": "stdout",
     "output_type": "stream",
     "text": [
      "Overhead factor: 1.2\n"
     ]
    }
   ],
   "source": [
    "overheadFactor = 1.2\n",
    "print(\"Overhead factor: {}\".format(overheadFactor))"
   ]
  },
  {
   "cell_type": "markdown",
   "metadata": {},
   "source": [
    "### 5. Total schema data size"
   ]
  },
  {
   "cell_type": "code",
   "execution_count": 19,
   "metadata": {},
   "outputs": [
    {
     "data": {
      "text/html": [
       "<div>\n",
       "<style scoped>\n",
       "    .dataframe tbody tr th:only-of-type {\n",
       "        vertical-align: middle;\n",
       "    }\n",
       "\n",
       "    .dataframe tbody tr th {\n",
       "        vertical-align: top;\n",
       "    }\n",
       "\n",
       "    .dataframe thead th {\n",
       "        text-align: right;\n",
       "    }\n",
       "</style>\n",
       "<table border=\"1\" class=\"dataframe\">\n",
       "  <thead>\n",
       "    <tr style=\"text-align: right;\">\n",
       "      <th></th>\n",
       "      <th>schema name</th>\n",
       "      <th>estimatied total column size</th>\n",
       "      <th>estimatied rows</th>\n",
       "      <th>index factor</th>\n",
       "      <th>overhead factor</th>\n",
       "      <th>estimatied schema data size</th>\n",
       "    </tr>\n",
       "  </thead>\n",
       "  <tbody>\n",
       "    <tr>\n",
       "      <th>0</th>\n",
       "      <td>table1</td>\n",
       "      <td>56</td>\n",
       "      <td>100</td>\n",
       "      <td>2</td>\n",
       "      <td>1.2</td>\n",
       "      <td>13440.0</td>\n",
       "    </tr>\n",
       "  </tbody>\n",
       "</table>\n",
       "</div>"
      ],
      "text/plain": [
       "  schema name  estimatied total column size  estimatied rows  index factor  \\\n",
       "0      table1                            56              100             2   \n",
       "\n",
       "   overhead factor  estimatied schema data size  \n",
       "0              1.2                      13440.0  "
      ]
     },
     "execution_count": 19,
     "metadata": {},
     "output_type": "execute_result"
    }
   ],
   "source": [
    "import pandas as pd\n",
    "\n",
    "schemaNameVal = ['table1']\n",
    "estimatedTotalColSizeVal = [totalColSize]\n",
    "estiamtedRowsVal = [estimatedRows]\n",
    "indexFactorVal = [indexFactor]\n",
    "overheadFactorVal = [overheadFactor]\n",
    "schemaDataSizeVal = [totalColSize * estimatedRows * indexFactor * overheadFactor]\n",
    "\n",
    "data_dict = {\n",
    "    'schema name':schemaNameVal,\n",
    "    'estimatied total column size': estimatedTotalColSizeVal,\n",
    "    'estimatied rows': estiamtedRowsVal,\n",
    "    'index factor': indexFactorVal,\n",
    "    'overhead factor': overheadFactorVal,\n",
    "    'estimatied schema data size': schemaDataSizeVal\n",
    "}\n",
    "\n",
    "df = pd.DataFrame.from_dict(data_dict)\n",
    "df"
   ]
  }
 ],
 "metadata": {
  "kernelspec": {
   "display_name": "Environment (conda_6.86x)",
   "language": "python",
   "name": "conda_6.86x"
  },
  "language_info": {
   "codemirror_mode": {
    "name": "ipython",
    "version": 3
   },
   "file_extension": ".py",
   "mimetype": "text/x-python",
   "name": "python",
   "nbconvert_exporter": "python",
   "pygments_lexer": "ipython3",
   "version": "3.6.8"
  }
 },
 "nbformat": 4,
 "nbformat_minor": 2
}
